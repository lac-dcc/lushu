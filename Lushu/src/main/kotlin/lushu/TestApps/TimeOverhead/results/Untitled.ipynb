{
 "cells": [
  {
   "cell_type": "code",
   "execution_count": 6,
   "id": "cf67e467-aaaf-4067-87db-83aacb2d7fa1",
   "metadata": {},
   "outputs": [],
   "source": [
    "from matplotlib import pyplot as plt"
   ]
  },
  {
   "cell_type": "code",
   "execution_count": 19,
   "id": "b2e9eeb6-6faf-4f57-9331-95cca936593c",
   "metadata": {},
   "outputs": [],
   "source": [
    "times_wout = []\n",
    "times_with = []\n",
    "for i in range(9):\n",
    "    with open(f\"results_{i}\") as f:\n",
    "        s = f.read()\n",
    "        times_wout.append(float(s.split(\"\\n\")[0]) / 1000)\n",
    "        times_with.append(float(s.split(\"\\n\")[1]) / 1000)"
   ]
  },
  {
   "cell_type": "code",
   "execution_count": 20,
   "id": "576ffa6a-cb8f-4637-ae95-aa3496772b06",
   "metadata": {},
   "outputs": [
    {
     "data": {
      "text/plain": [
       "[<matplotlib.lines.Line2D at 0x7fb5972fe040>]"
      ]
     },
     "execution_count": 20,
     "metadata": {},
     "output_type": "execute_result"
    },
    {
     "data": {
      "image/png": "[encoded data removed]",
      "text/plain": [
       "<Figure size 432x288 with 1 Axes>"
      ]
     },
     "metadata": {
      "needs_background": "light"
     },
     "output_type": "display_data"
    }
   ],
   "source": [
    "x = range(len(times_wout))\n",
    "plt.plot(x, times_wout)\n",
    "plt.plot(x, times_with)"
   ]
  },
  {
   "cell_type": "code",
   "execution_count": null,
   "id": "61e33976-a638-44e7-83bd-8e4683fc13aa",
   "metadata": {},
   "outputs": [],
   "source": []
  }
 ],
 "metadata": {
  "kernelspec": {
   "display_name": "Python 3 (ipykernel)",
   "language": "python",
   "name": "python3"
  },
  "language_info": {
   "codemirror_mode": {
    "name": "ipython",
    "version": 3
   },
   "file_extension": ".py",
   "mimetype": "text/x-python",
   "name": "python",
   "nbconvert_exporter": "python",
   "pygments_lexer": "ipython3",
   "version": "3.8.10"
  }
 },
 "nbformat": 4,
 "nbformat_minor": 5
}
